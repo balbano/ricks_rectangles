{
 "cells": [
  {
   "cell_type": "markdown",
   "metadata": {
    "collapsed": true
   },
   "source": [
    "Rick's Rectangles\n",
    "=================\n",
    "\n",
    "by Brendan Albano\n",
    "\n",
    "We need to abstract the description of the pattern in a way that helps the computer not explode.\n",
    "I'm working with the fact that there are a limited number of ways any given row can be arranged.\n",
    "\n",
    "If you start from the top of the large rectangle and fill it in row by row, there are 7\n",
    "types of moves you can make. We will number them 0-6. Each move fills an entire row\n",
    "and may occupy some space on the row below if it has vertical tiles. See the below sketch.\n",
    "\n",
    "This lets us describe a pattern as a series of 6 numbers. One move per row.\n",
    "If we know what moves are possible after each previous move, we can check to see if a particular\n",
    "pattern is valid.\n",
    "\n",
    "![move_types](files/move_types.png)\n",
    "\n",
    "If the image isn't displaying, you can see it here: <https://github.com/balbano/ricks_rectangles/blob/master/files/move_types.png>"
   ]
  },
  {
   "cell_type": "code",
   "execution_count": 2,
   "metadata": {
    "collapsed": true
   },
   "outputs": [],
   "source": [
    "import itertools"
   ]
  },
  {
   "cell_type": "code",
   "execution_count": 3,
   "metadata": {
    "collapsed": false
   },
   "outputs": [],
   "source": [
    "# These are the valid moves that can follow each move.\n",
    "# The previous move is the index of the list, and the valid moves after it\n",
    "# are the items in the sublist.\n",
    "rick_rules = ((1, 2, 3, 4, 5), # No placement.\n",
    "              (1, 2, 3, 4, 5), # All horizontal.\n",
    "              (1, 3),          # Two vertical left.\n",
    "              (1, 2),          # Two vertical right.\n",
    "              (1, 6),          # Vertical on each side.\n",
    "              (0,),            # All vertical.\n",
    "              (4,))            # Two vertical in center."
   ]
  },
  {
   "cell_type": "code",
   "execution_count": 4,
   "metadata": {
    "collapsed": false
   },
   "outputs": [],
   "source": [
    "# Given a set of patterns and a set of rules, this function count the valid patterns.\n",
    "def count_valid_patterns(patterns, rules):\n",
    "    valid_patterns = 0\n",
    "    # We start checking with the second row.\n",
    "    for pattern in patterns:\n",
    "        valid = True\n",
    "        # We assume that we have generated the patterns such that the first row is always valid.\n",
    "        for current, previous in zip(pattern[1:], pattern[:-1]):\n",
    "            if current not in rules[previous]:\n",
    "                valid = False\n",
    "        if valid:\n",
    "            valid_patterns += 1\n",
    "    return valid_patterns"
   ]
  },
  {
   "cell_type": "code",
   "execution_count": 5,
   "metadata": {
    "collapsed": false
   },
   "outputs": [
    {
     "name": "stdout",
     "output_type": "stream",
     "text": [
      "1150976\n"
     ]
    }
   ],
   "source": [
    "# Now lets generate the patterns. We need to make sure the first row is valid.\n",
    "# The first row can be pattern 1 thru 5, the last row, 0 or 1, the middle rows, 0 thru 6.\n",
    "# This way we know that the first row is always valid and the last row is possibly valid.\n",
    "rick_patterns = itertools.product((1, 2, 3, 4, 5), range(7), range(7), range(7), range(7), (0, 1))\n",
    "\n",
    "valid_patterns = count_valid_patterns(rick_patterns, rick_rules)\n",
    "\n",
    "# Each tile has two ways it can be filled, there are 12 tiles, so each pattern without accounting for fills\n",
    "# Has 2^12 possible variations of fills.\n",
    "valid_patterns_with_fill_differences = valid_patterns * 2**12\n",
    "\n",
    "print(valid_patterns_with_fill_differences) # 1150976"
   ]
  }
 ],
 "metadata": {
  "kernelspec": {
   "display_name": "Python 3",
   "language": "python",
   "name": "python3"
  },
  "language_info": {
   "codemirror_mode": {
    "name": "ipython",
    "version": 3
   },
   "file_extension": ".py",
   "mimetype": "text/x-python",
   "name": "python",
   "nbconvert_exporter": "python",
   "pygments_lexer": "ipython3",
   "version": "3.4.3"
  }
 },
 "nbformat": 4,
 "nbformat_minor": 0
}
